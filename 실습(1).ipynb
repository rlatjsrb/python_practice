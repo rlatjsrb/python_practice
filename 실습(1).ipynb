{
 "cells": [
  {
   "cell_type": "markdown",
   "id": "c2a7fc1a-42bb-48ae-bf2c-4effd93fb3dd",
   "metadata": {},
   "source": [
    "### 파이썬 연산자"
   ]
  },
  {
   "cell_type": "markdown",
   "id": "8b996d7c-adb7-4df1-96f7-b8a5644ec67e",
   "metadata": {},
   "source": [
    "더하기"
   ]
  },
  {
   "cell_type": "code",
   "execution_count": 1,
   "id": "2e7588cc-c34c-40e1-8566-2cf7215fe401",
   "metadata": {},
   "outputs": [
    {
     "data": {
      "text/plain": [
       "6"
      ]
     },
     "execution_count": 1,
     "metadata": {},
     "output_type": "execute_result"
    }
   ],
   "source": [
    "2 + 4"
   ]
  },
  {
   "cell_type": "markdown",
   "id": "6fc05561-eef7-4491-8d51-bd94c2ed879c",
   "metadata": {},
   "source": [
    "빼기"
   ]
  },
  {
   "cell_type": "code",
   "execution_count": 8,
   "id": "b32529f8-4a17-4323-8be6-5d6c9e7bf056",
   "metadata": {},
   "outputs": [
    {
     "data": {
      "text/plain": [
       "2"
      ]
     },
     "execution_count": 8,
     "metadata": {},
     "output_type": "execute_result"
    }
   ],
   "source": [
    "4 - 2"
   ]
  },
  {
   "cell_type": "raw",
   "id": "c3bfbf31-4c21-47aa-90a6-d49a394ccbc4",
   "metadata": {},
   "source": [
    "곱하기"
   ]
  },
  {
   "cell_type": "code",
   "execution_count": 9,
   "id": "ef82a210-e450-4999-b6fe-80bdbdbf9720",
   "metadata": {},
   "outputs": [
    {
     "data": {
      "text/plain": [
       "8"
      ]
     },
     "execution_count": 9,
     "metadata": {},
     "output_type": "execute_result"
    }
   ],
   "source": [
    "2 * 4"
   ]
  },
  {
   "cell_type": "markdown",
   "id": "2c699682-935b-4df9-8f99-a7be762c588c",
   "metadata": {},
   "source": [
    "나누기"
   ]
  },
  {
   "cell_type": "code",
   "execution_count": 10,
   "id": "d746d32d-984f-4c3d-900d-d6bc161dab69",
   "metadata": {},
   "outputs": [
    {
     "data": {
      "text/plain": [
       "2.0"
      ]
     },
     "execution_count": 10,
     "metadata": {},
     "output_type": "execute_result"
    }
   ],
   "source": [
    "4 / 2"
   ]
  },
  {
   "cell_type": "markdown",
   "id": "d7fb7ec9-0af7-4bd3-8c09-c53ef089e5da",
   "metadata": {},
   "source": [
    "제곱"
   ]
  },
  {
   "cell_type": "code",
   "execution_count": 4,
   "id": "3e685d14-4579-4834-9490-d87fe1750d38",
   "metadata": {},
   "outputs": [
    {
     "data": {
      "text/plain": [
       "16"
      ]
     },
     "execution_count": 4,
     "metadata": {},
     "output_type": "execute_result"
    }
   ],
   "source": [
    "4 ** 2"
   ]
  },
  {
   "cell_type": "markdown",
   "id": "2e82b3e8-c991-4357-b792-dd1af93af502",
   "metadata": {},
   "source": [
    "몫"
   ]
  },
  {
   "cell_type": "code",
   "execution_count": 11,
   "id": "4622ba2d-14b5-4920-989a-5be0fe8d2af5",
   "metadata": {},
   "outputs": [
    {
     "data": {
      "text/plain": [
       "3.5"
      ]
     },
     "execution_count": 11,
     "metadata": {},
     "output_type": "execute_result"
    }
   ],
   "source": [
    "7 / 2"
   ]
  },
  {
   "cell_type": "markdown",
   "id": "c70ebc13-2729-4b27-9df1-f26949ca41ae",
   "metadata": {},
   "source": [
    "정수몫"
   ]
  },
  {
   "cell_type": "code",
   "execution_count": 6,
   "id": "7e50077d-71d3-4836-b818-924367a7833a",
   "metadata": {},
   "outputs": [
    {
     "data": {
      "text/plain": [
       "3"
      ]
     },
     "execution_count": 6,
     "metadata": {},
     "output_type": "execute_result"
    }
   ],
   "source": [
    "7 // 2"
   ]
  },
  {
   "cell_type": "markdown",
   "id": "0388e58f-1c66-4cab-8b53-ba63dccafe3d",
   "metadata": {},
   "source": [
    "나머지"
   ]
  },
  {
   "cell_type": "code",
   "execution_count": 7,
   "id": "465a4ab8-400b-4a2f-b835-44ed8860e320",
   "metadata": {},
   "outputs": [
    {
     "data": {
      "text/plain": [
       "1"
      ]
     },
     "execution_count": 7,
     "metadata": {},
     "output_type": "execute_result"
    }
   ],
   "source": [
    "7 % 2"
   ]
  },
  {
   "cell_type": "markdown",
   "id": "f4b5c9d5-d3af-41d7-bd11-cc1b4a314326",
   "metadata": {},
   "source": [
    "----------------------------------------------------------------------------------------------------------------"
   ]
  },
  {
   "cell_type": "markdown",
   "id": "c19d5e16-9e8b-442d-b3d3-7972bb300fc2",
   "metadata": {},
   "source": [
    "### 파이썬 주석문"
   ]
  },
  {
   "cell_type": "code",
   "execution_count": 12,
   "id": "5c8941f0-716f-49bb-b048-9d561a75952c",
   "metadata": {},
   "outputs": [],
   "source": [
    "# ctrl + /"
   ]
  },
  {
   "cell_type": "code",
   "execution_count": 13,
   "id": "c40005f6-8d36-4d1a-ac80-71f0ab538101",
   "metadata": {},
   "outputs": [],
   "source": [
    "# 파이썬 주석문"
   ]
  },
  {
   "cell_type": "code",
   "execution_count": 14,
   "id": "2c844f08-78df-4741-8547-e025a0fb0b52",
   "metadata": {},
   "outputs": [],
   "source": [
    "# 파이썬\n",
    "# 주석문"
   ]
  },
  {
   "cell_type": "code",
   "execution_count": 15,
   "id": "74415e51-23ed-4e6d-9289-8ab6a65726f4",
   "metadata": {},
   "outputs": [
    {
     "name": "stdout",
     "output_type": "stream",
     "text": [
      "1\n"
     ]
    }
   ],
   "source": [
    "'''\n",
    "파이썬\n",
    "블럭\n",
    "주석문\n",
    "'''\n",
    "print(1)"
   ]
  },
  {
   "cell_type": "markdown",
   "id": "caa11cf2-63c2-4962-8eab-62e122bb9eb9",
   "metadata": {
    "tags": []
   },
   "source": [
    "### 들여쓰기"
   ]
  },
  {
   "cell_type": "code",
   "execution_count": 16,
   "id": "97bcd5a5-3b02-49df-97dd-2e65020da490",
   "metadata": {},
   "outputs": [
    {
     "name": "stdout",
     "output_type": "stream",
     "text": [
      "True\n"
     ]
    }
   ],
   "source": [
    "a = True\n",
    "if a:\n",
    "    print(\"True\")\n",
    "else:\n",
    "    print(\"False\")"
   ]
  },
  {
   "cell_type": "code",
   "execution_count": 18,
   "id": "94a8a2eb-8d65-461c-8fc2-7ef91462a27c",
   "metadata": {},
   "outputs": [
    {
     "name": "stdout",
     "output_type": "stream",
     "text": [
      "True\n",
      "True End ...\n",
      "End...\n"
     ]
    }
   ],
   "source": [
    "a = True\n",
    "if a:\n",
    "    print(\"True\")\n",
    "    print(\"True End ...\")\n",
    "else:\n",
    "    print(\"False\")\n",
    "print('End...')"
   ]
  },
  {
   "cell_type": "code",
   "execution_count": null,
   "id": "13a43023-1b6e-4bd2-8b7d-1dcd6c06e89e",
   "metadata": {},
   "outputs": [],
   "source": []
  },
  {
   "cell_type": "markdown",
   "id": "05da0901-53ca-4a4e-89a8-27f9cb703df7",
   "metadata": {},
   "source": [
    "### print 함수"
   ]
  },
  {
   "cell_type": "code",
   "execution_count": 1,
   "id": "0a03bb39-d98d-4847-a851-2196ae1be0a0",
   "metadata": {},
   "outputs": [
    {
     "name": "stdout",
     "output_type": "stream",
     "text": [
      "Hello world Python\n"
     ]
    }
   ],
   "source": [
    "print('Hello world Python')"
   ]
  },
  {
   "cell_type": "code",
   "execution_count": 2,
   "id": "ba14fa39-d98d-4726-a7c2-a94d0c482191",
   "metadata": {},
   "outputs": [
    {
     "name": "stdout",
     "output_type": "stream",
     "text": [
      "a 1\n"
     ]
    }
   ],
   "source": [
    "print('a', 1)"
   ]
  },
  {
   "cell_type": "code",
   "execution_count": 3,
   "id": "635920fb-7ebc-4303-98dd-a796bcd4b86e",
   "metadata": {},
   "outputs": [
    {
     "name": "stdout",
     "output_type": "stream",
     "text": [
      "a:1\n"
     ]
    }
   ],
   "source": [
    "print('a', 1, sep = ':')"
   ]
  },
  {
   "cell_type": "code",
   "execution_count": 4,
   "id": "e395bb1d-3462-41ac-8556-e7e398db86f9",
   "metadata": {},
   "outputs": [
    {
     "name": "stdout",
     "output_type": "stream",
     "text": [
      "a:1."
     ]
    }
   ],
   "source": [
    "print('a', 1, sep = ':', end = '.')"
   ]
  },
  {
   "cell_type": "markdown",
   "id": "2d423ad2-f4c8-4d74-bf83-f566d244386d",
   "metadata": {},
   "source": [
    "### input 함수"
   ]
  },
  {
   "cell_type": "code",
   "execution_count": 5,
   "id": "9b642b19-f11c-43fa-b6d3-01bed972731d",
   "metadata": {},
   "outputs": [
    {
     "name": "stdin",
     "output_type": "stream",
     "text": [
      " Python\n"
     ]
    },
    {
     "data": {
      "text/plain": [
       "'Python'"
      ]
     },
     "execution_count": 5,
     "metadata": {},
     "output_type": "execute_result"
    }
   ],
   "source": [
    "input()"
   ]
  },
  {
   "cell_type": "code",
   "execution_count": 7,
   "id": "cf8e4387-b944-42ac-b77b-21ab1eea5d8c",
   "metadata": {},
   "outputs": [
    {
     "name": "stdin",
     "output_type": "stream",
     "text": [
      "프로그램 언어 :  파이썬\n"
     ]
    },
    {
     "data": {
      "text/plain": [
       "'파이썬'"
      ]
     },
     "execution_count": 7,
     "metadata": {},
     "output_type": "execute_result"
    }
   ],
   "source": [
    "input('프로그램 언어 : ')"
   ]
  },
  {
   "cell_type": "code",
   "execution_count": 8,
   "id": "a8008f20-289f-4146-80a8-c1c4fa596265",
   "metadata": {},
   "outputs": [
    {
     "data": {
      "text/plain": [
       "3"
      ]
     },
     "execution_count": 8,
     "metadata": {},
     "output_type": "execute_result"
    }
   ],
   "source": [
    "round(3.141592)"
   ]
  },
  {
   "cell_type": "code",
   "execution_count": 9,
   "id": "edef674e-0ad5-49f6-82c4-6fb038f58169",
   "metadata": {},
   "outputs": [
    {
     "data": {
      "text/plain": [
       "3.14"
      ]
     },
     "execution_count": 9,
     "metadata": {},
     "output_type": "execute_result"
    }
   ],
   "source": [
    "round(3.141592, 2)"
   ]
  },
  {
   "cell_type": "code",
   "execution_count": 10,
   "id": "98b7b589-6fee-43fd-83a5-cb36ce7524ed",
   "metadata": {},
   "outputs": [
    {
     "data": {
      "text/plain": [
       "3.14259"
      ]
     },
     "execution_count": 10,
     "metadata": {},
     "output_type": "execute_result"
    }
   ],
   "source": [
    "round(3.142592, 5)"
   ]
  },
  {
   "cell_type": "code",
   "execution_count": 11,
   "id": "b3baca87-6934-4339-a215-282b927f07f5",
   "metadata": {},
   "outputs": [
    {
     "data": {
      "text/plain": [
       "1000"
      ]
     },
     "execution_count": 11,
     "metadata": {},
     "output_type": "execute_result"
    }
   ],
   "source": [
    "max(10, 100, 1000)"
   ]
  },
  {
   "cell_type": "code",
   "execution_count": 12,
   "id": "7081381e-df6b-48c7-901c-89c298a53703",
   "metadata": {},
   "outputs": [
    {
     "data": {
      "text/plain": [
       "10"
      ]
     },
     "execution_count": 12,
     "metadata": {},
     "output_type": "execute_result"
    }
   ],
   "source": [
    "min(10, 100, 1000)"
   ]
  },
  {
   "cell_type": "code",
   "execution_count": 13,
   "id": "94e4111c-c723-4170-a7ac-d2588cc6d362",
   "metadata": {},
   "outputs": [
    {
     "data": {
      "text/plain": [
       "16"
      ]
     },
     "execution_count": 13,
     "metadata": {},
     "output_type": "execute_result"
    }
   ],
   "source": [
    "pow(2, 4) # 2**4"
   ]
  },
  {
   "cell_type": "code",
   "execution_count": 14,
   "id": "e995ffc4-85c1-4a37-b19b-28bd8d0523de",
   "metadata": {},
   "outputs": [
    {
     "data": {
      "text/plain": [
       "18"
      ]
     },
     "execution_count": 14,
     "metadata": {},
     "output_type": "execute_result"
    }
   ],
   "source": [
    "len('Hello World Python')"
   ]
  },
  {
   "cell_type": "code",
   "execution_count": 15,
   "id": "1ced3c4c-0da8-4d03-9ce1-37fac93f49d3",
   "metadata": {},
   "outputs": [
    {
     "data": {
      "text/plain": [
       "<zip at 0x12cb8f7f740>"
      ]
     },
     "execution_count": 15,
     "metadata": {},
     "output_type": "execute_result"
    }
   ],
   "source": [
    "zip('abc', '123')"
   ]
  },
  {
   "cell_type": "code",
   "execution_count": 16,
   "id": "4e323f7f-1aa9-49ef-ab68-3c59982783ac",
   "metadata": {},
   "outputs": [
    {
     "data": {
      "text/plain": [
       "[('a', '1'), ('b', '2'), ('c', '3')]"
      ]
     },
     "execution_count": 16,
     "metadata": {},
     "output_type": "execute_result"
    }
   ],
   "source": [
    "list(zip('abc', '123'))"
   ]
  },
  {
   "cell_type": "code",
   "execution_count": 17,
   "id": "568333b1-04f8-4ab6-a091-42d893a154a9",
   "metadata": {},
   "outputs": [],
   "source": [
    "hello = 'Hello world Python'"
   ]
  },
  {
   "cell_type": "code",
   "execution_count": 18,
   "id": "0f639556-2b1e-439c-b5da-43935abadd12",
   "metadata": {},
   "outputs": [
    {
     "name": "stdout",
     "output_type": "stream",
     "text": [
      "Hello world Python\n"
     ]
    }
   ],
   "source": [
    "print(hello)"
   ]
  },
  {
   "cell_type": "code",
   "execution_count": 19,
   "id": "9d3b225c-f617-4c3a-bf43-09bb6635449f",
   "metadata": {},
   "outputs": [
    {
     "data": {
      "text/plain": [
       "'Hello world Python'"
      ]
     },
     "execution_count": 19,
     "metadata": {},
     "output_type": "execute_result"
    }
   ],
   "source": [
    "hello"
   ]
  },
  {
   "cell_type": "code",
   "execution_count": 20,
   "id": "6af940f1-d867-4284-8f9a-5f0dd78ae184",
   "metadata": {},
   "outputs": [
    {
     "data": {
      "text/plain": [
       "'Hello world Python'"
      ]
     },
     "execution_count": 20,
     "metadata": {},
     "output_type": "execute_result"
    }
   ],
   "source": [
    "hello\n",
    "hello"
   ]
  },
  {
   "cell_type": "code",
   "execution_count": 21,
   "id": "bb8f3ca0-d9c8-4b87-a5ac-47fd2e88b290",
   "metadata": {},
   "outputs": [
    {
     "name": "stdout",
     "output_type": "stream",
     "text": [
      "Hello world Python\n",
      "Hello world Python\n"
     ]
    }
   ],
   "source": [
    "print(hello)\n",
    "print(hello)"
   ]
  }
 ],
 "metadata": {
  "kernelspec": {
   "display_name": "Python 3",
   "language": "python",
   "name": "python3"
  },
  "language_info": {
   "codemirror_mode": {
    "name": "ipython",
    "version": 3
   },
   "file_extension": ".py",
   "mimetype": "text/x-python",
   "name": "python",
   "nbconvert_exporter": "python",
   "pygments_lexer": "ipython3",
   "version": "3.8.8"
  }
 },
 "nbformat": 4,
 "nbformat_minor": 5
}

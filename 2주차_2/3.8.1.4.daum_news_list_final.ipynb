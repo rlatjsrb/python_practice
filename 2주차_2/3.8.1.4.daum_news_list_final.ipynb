{
 "cells": [
  {
   "cell_type": "code",
   "execution_count": 1,
   "id": "e7b8a9de",
   "metadata": {},
   "outputs": [],
   "source": [
    "import requests\n",
    "import lxml.html\n",
    "import pandas as pd\n",
    "import sqlite3\n",
    "from pandas.io import sql\n",
    "import os\n",
    "import time"
   ]
  },
  {
   "cell_type": "code",
   "execution_count": 10,
   "id": "59abba81",
   "metadata": {},
   "outputs": [],
   "source": [
    "def db_save(NEWS_LIST):\n",
    "    with sqlite3.connect(os.path.join('.', 'sqliteDB')) as con:\n",
    "        try:\n",
    "            NEWS_LIST.to_sql(name = 'NEWS_LIST', con = con, index = False, if_exists = 'append')\n",
    "        except Exception as e:\n",
    "            print(str(e))\n",
    "        print(len(NEWS_LIST), '건 저장완료...')"
   ]
  },
  {
   "cell_type": "code",
   "execution_count": 11,
   "id": "8f969e96",
   "metadata": {},
   "outputs": [],
   "source": [
    "def db_delete():\n",
    "    with sqlite3.connect(os.path.join('.','sqliteDB')) as con: \n",
    "        try:\n",
    "            cur = con.cursor()\n",
    "            sql = 'DELETE FROM NEWS_LIST'\n",
    "            cur.execute(sql)\n",
    "        except Exception as e:\n",
    "            print(str(e)) "
   ]
  },
  {
   "cell_type": "code",
   "execution_count": 12,
   "id": "3acff6b9",
   "metadata": {},
   "outputs": [],
   "source": [
    "def db_select():\n",
    "    with sqlite3.connect(os.path.join('.','sqliteDB')) as con: \n",
    "        try:\n",
    "            query = 'SELECT * FROM NEWS_LIST'\n",
    "            NEWS_LIST = pd.read_sql(query, con = con)\n",
    "        except Exception as e:\n",
    "            print(str(e)) \n",
    "        return NEWS_LIST"
   ]
  },
  {
   "cell_type": "code",
   "execution_count": 13,
   "id": "1ff1baed",
   "metadata": {},
   "outputs": [],
   "source": [
    "import re\n",
    "import string\n",
    "\n",
    "def get_detail(url):\n",
    "    body = []\n",
    "    punc = '[!\"#$%&\\'()*+,-./:;<=>?[\\]^_`{|}~“”·]'\n",
    "    response = requests.get(url)\n",
    "    root = lxml.html.fromstring(response.content)\n",
    "    for p in root.xpath('//*[@id=\"harmonyContainer\"]/section/p'):\n",
    "        if p.text: # 체크\n",
    "            body.append(re.sub(punc, '', p.text)) # 특수문자 제거\n",
    "    full_body = ' '.join(body)\n",
    "    \n",
    "    return full_body"
   ]
  },
  {
   "cell_type": "code",
   "execution_count": 14,
   "id": "765650a8",
   "metadata": {},
   "outputs": [],
   "source": [
    "page = 58\n",
    "max_page = 0\n",
    "REG_DATE = '20210712'"
   ]
  },
  {
   "cell_type": "code",
   "execution_count": 15,
   "id": "02a21367",
   "metadata": {},
   "outputs": [
    {
     "name": "stdout",
     "output_type": "stream",
     "text": [
      "15 건 저장완료...\n",
      "15 건 저장완료...\n",
      "15 건 저장완료...\n",
      "15 건 저장완료...\n",
      "8 건 저장완료...\n",
      "8 건 저장완료...\n"
     ]
    }
   ],
   "source": [
    "while(True):\n",
    "    df_list = []\n",
    "    response = requests.get('http://news.daum.net/breakingnews/digital?page={}&regDate={}'\\\n",
    "                            .format(page, REG_DATE))\n",
    "    root = lxml.html.fromstring(response.content)\n",
    "    for li in root.xpath('//*[@id=\"mArticle\"]/div[3]/ul/li'):\n",
    "        a = li.xpath('div/strong/a')[0]\n",
    "        url = a.get('href')\n",
    "        article = get_detail(url)\n",
    "        df = pd.DataFrame({'URL' : [url],'TITLE':[a.text],'ARTICLE' : [article]})\n",
    "        df_list.append(df)   \n",
    "        \n",
    "    if df_list:   \n",
    "        df_10 = pd.concat(df_list)\n",
    "        db_save(df_10)\n",
    "\n",
    "    # 페이지 번호 중에서 max 페이지 가져오기    \n",
    "    for a in root.xpath('//*[@id=\"mArticle\"]/div[3]/div/span/a'):\n",
    "        try:\n",
    "            num = int(a.text)\n",
    "            if max_page < num:\n",
    "                max_page = num       \n",
    "        except:\n",
    "            pass\n",
    "\n",
    "    # 마지막 페이지 여부 확인     \n",
    "    span = root.xpath('//*[@id=\"mArticle\"]/div[3]/div/span/a[@class=\"btn_page btn_next\"]')\n",
    "\n",
    "    if (len(span) <= 0) & (page > max_page):\n",
    "        break\n",
    "    else:\n",
    "        page = page + 1\n",
    "        \n",
    "    time.sleep(1)      "
   ]
  },
  {
   "cell_type": "code",
   "execution_count": 16,
   "id": "27c6e661",
   "metadata": {
    "scrolled": true
   },
   "outputs": [
    {
     "name": "stdout",
     "output_type": "stream",
     "text": [
      "                                       URL  \\\n",
      "0   https://v.daum.net/v/20210712082450370   \n",
      "1   https://v.daum.net/v/20210712082351344   \n",
      "2   https://v.daum.net/v/20210712082058258   \n",
      "3   https://v.daum.net/v/20210712082032251   \n",
      "4   https://v.daum.net/v/20210712082008239   \n",
      "..                                     ...   \n",
      "71  https://v.daum.net/v/20210712014601054   \n",
      "72  https://v.daum.net/v/20210712000421416   \n",
      "73  https://v.daum.net/v/20210712000107369   \n",
      "74  https://v.daum.net/v/20210712000104363   \n",
      "75  https://v.daum.net/v/20210712000007329   \n",
      "\n",
      "                                     TITLE  \\\n",
      "0                  1만배 빠른 반도체 소자 인쇄 새공법 개발   \n",
      "1           대만 폭스콘·TSMC, 코로나19 백신 1천만회분 구매   \n",
      "2               英억만장자 리처드 브랜슨, 첫 우주관광비행 성공   \n",
      "3   벨기에서 알파·베타 변이 '복합 감염' 사망자 나왔다..세계 첫 사례   \n",
      "4                 비트코인 4000만원대..이더리움 250만원   \n",
      "..                                     ...   \n",
      "71                억만장자 브랜슨, 준궤도 우주관광 1호 됐다   \n",
      "72        [Biz & Now] LG유플러스, 5G 스마트팩토리 조성   \n",
      "73            쿠버네티스 플랫폼에 최적화된 데이터 보호 솔루션은?   \n",
      "74        창성시트, 글로벌 디지털사이니지 시장에서 K-브랜드 만든다   \n",
      "75         KIRD, 우주 전문가 양성위해 KT SAT과 협력 추진   \n",
      "\n",
      "                                              ARTICLE  \n",
      "0   아시아경제 김봉수 기자 국내 연구진이 먼지처럼 작은 수십 나노미터 크기부터 A4용지...  \n",
      "1   지디넷코리아김익현 미디어연구소장대만 폭스콘과 TSMC가 정부를 대신해 코로나19 백...  \n",
      "2   아이뉴스24 안희권 기자 영국 억만장자 리처드 브랜슨 버진그룹 회장이 우주관광 시범...  \n",
      "3   벨기에에서 신종 코로나바이러스 감염증코로나19 백신 미접종 환자가 알파베타 2개 변...  \n",
      "4   이데일리 김국배 기자 암호화폐 비트코인의 국내 가격이 4000만원대로 소폭 올랐다 ...  \n",
      "..                                                ...  \n",
      "71  ‘포브스’ 억만장자 순위 500위에 올라 있는 리처드 브랜슨71 버진그룹 회장이 세...  \n",
      "72  LG유플러스는 국가산업단지공단 울산지역본부와 울산 석유화학단지에 5세대5G 통신 기...  \n",
      "73  쿠버네티스는 확장성과 효율성 그리고 고가용성 PaaS 플랫폼으로 향후 IT 인프라의...  \n",
      "74  불확실성에서 생존하는 기업 경영엔 의미를 두고 싶지 않습니다 강소기업으로 도약하기 ...  \n",
      "75  국가과학기술인력개발원원장 박귀찬KIRD과 KT SAT대표 송경민이 지난 9일 우주분...  \n",
      "\n",
      "[76 rows x 3 columns]\n"
     ]
    }
   ],
   "source": [
    "print(db_select())"
   ]
  },
  {
   "cell_type": "code",
   "execution_count": null,
   "id": "8bd671ac",
   "metadata": {},
   "outputs": [],
   "source": []
  }
 ],
 "metadata": {
  "kernelspec": {
   "display_name": "Python 3",
   "language": "python",
   "name": "python3"
  },
  "language_info": {
   "codemirror_mode": {
    "name": "ipython",
    "version": 3
   },
   "file_extension": ".py",
   "mimetype": "text/x-python",
   "name": "python",
   "nbconvert_exporter": "python",
   "pygments_lexer": "ipython3",
   "version": "3.8.8"
  }
 },
 "nbformat": 4,
 "nbformat_minor": 5
}

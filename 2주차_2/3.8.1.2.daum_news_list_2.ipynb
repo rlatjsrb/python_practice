{
 "cells": [
  {
   "cell_type": "code",
   "execution_count": 1,
   "id": "71939816",
   "metadata": {},
   "outputs": [],
   "source": [
    "import requests\n",
    "import lxml.html\n",
    "import pandas as pd\n",
    "import sqlite3\n",
    "from pandas.io import sql\n",
    "import os"
   ]
  },
  {
   "cell_type": "code",
   "execution_count": 2,
   "id": "640a7601",
   "metadata": {},
   "outputs": [
    {
     "data": {
      "text/plain": [
       "'지디넷코리아김윤희 기자국가정보원과 과학기술정보통신부 중소기업벤처기업부 한국정보보호산업협회KISIA는 점차 증가하고 있는 사이버 환경에서의 첨단 기술 유출에 대한 대응 체계를 마련하고자 민관학 ‘신종 기술유출 위협 대응 협의회TRAT를 운영하고 있다고 12일 밝혔다 TRAT는 지난 5월 강석균 안랩 대표를 회장으로 선출함으로써 공식 발족했다 협의체의 세부 분과 중 산업계 분과장으로는 이민수 한국통신인터넷기술 대표 학계 분과장으로는 차영균 고려대학교 교수 유관기관 분과장으로는 박윤현 KISIA 상근부회장이 각각 선출됐다 협의회의 산업계 분과는 회장사인 안랩 등 8개의 정보보호 기업이 소속돼 있다\\xa0기술유출 위협 정보의 공유 및 보안 제품 공급 방안 논의 등을 담당한다\\xa0 KISIA KISA 대중소기업농어업협력재단 이노비즈협회 한국산업기술진흥협회 벤처기업협회 한국여성벤처협회와 같은 7개 협‧단체로 구성된 유관기관 분과는 유관 산업계로의 신속한 정보 전달과 홍보 채널 및 산업 현장의 의견 수렴 창구 역할을 수행한다\\xa0 고려대 중앙대 등 4개 대학으로 구성된 학계 분과는 대응 기술 연구 및 대응 정책안의 마련을 담당한다\\xa0 국가정보원 과학기술정보통신부와 중소벤처기업부 등 3개의 정부‧공공기관이 참여함으로서 실질적인 정책 적용을 위한 구심점 역할을 수행할 계획이다 지난 5월 TRAT\\xa0첫 회의에서는 신종기술 유출 피해에 가장 취약한 중소영세 업체의 보안 인식을 개선하고 보안 역량 강화 방안을 마련하기 위한 다양한 의견을 공유했다 중소영세 기업을 위한 보안관리 가이드 마련 국가 주도적인 강제성 있는 보안 정책 마련 홍보 및 교육을 통한 인식 개선 등이 주요 의제로 제시됐다 TRAT는 향후 국가 핵심 기술 분야와 관련된 국가적 기술 보호 가치가 높은 기업의 참여를 유도하는 등 다양한 산업 현장에서 중소‧강소기업에 대한 사이버 기술 유출 대응 방안을 마련하는 역할을 수행할 예정이다 TRAT\\xa0관계자는 TRAT 활동으로 도출된 대응 방안들이 실질적으로 정책에 반영되는 것에 주력할 것이라며 가까운 시일 내에 자체 정관을 구성하는 등 체계적이고 조직적인 운영을 통해 향후 외연 확대에도 적극 대응하겠다고 밝혔다 협의회 회장인 강석균 대표는 취임 후 회장으로서 협의회 활동에 성실히 임할 것이며 기술 유출 근절을 위한 활동에 적극적으로 참여하겠다고 했다\\xa0 이동범 KISIA 회장은 이번 협의회는 원자력연구원의 VPN 해킹 자료탈취형 랜섬웨어 기승 등 신종 기술 유출 위협 증가 상황 하에 첨단기술 보호를 위한 민관학의 협력과 전략을 이끌어낼 중요한 협의 기구로서 역할을 해낼 것’이라고 기대했다 국가정보원 관계자는 코로나19로 업무 환경뿐 아니라 기술 유출도 비대면으로 바뀌었다며 사람에 의한 기술 유출 노하우를 바탕으로 해킹 클라우드 악용 보안 시스템 무력화 등 신종 기술 유출에도 발빠르게 대응하겠다고 언급했다 김윤희 기자kyh@zdnetcokr'"
      ]
     },
     "execution_count": 2,
     "metadata": {},
     "output_type": "execute_result"
    }
   ],
   "source": [
    "import re\n",
    "import string\n",
    "\n",
    "def get_detail(url):\n",
    "    body = []\n",
    "    punc = '[!\"#$%&\\'()*+,-./:;<=>?[\\]^_`{|}~“”·]'\n",
    "    response = requests.get(url)\n",
    "    root = lxml.html.fromstring(response.content)\n",
    "    for p in root.xpath('//*[@id=\"harmonyContainer\"]/section/p'):\n",
    "        if p.text:\n",
    "            body.append(re.sub(punc, '', p.text)) # 특수문자 제거\n",
    "    full_body = ' '.join(body)\n",
    "    \n",
    "    return full_body\n",
    "\n",
    "get_detail('https://news.v.daum.net/v/20210712234446331')"
   ]
  },
  {
   "cell_type": "code",
   "execution_count": null,
   "id": "25a7f9d0",
   "metadata": {},
   "outputs": [],
   "source": []
  }
 ],
 "metadata": {
  "kernelspec": {
   "display_name": "Python 3",
   "language": "python",
   "name": "python3"
  },
  "language_info": {
   "codemirror_mode": {
    "name": "ipython",
    "version": 3
   },
   "file_extension": ".py",
   "mimetype": "text/x-python",
   "name": "python",
   "nbconvert_exporter": "python",
   "pygments_lexer": "ipython3",
   "version": "3.8.8"
  }
 },
 "nbformat": 4,
 "nbformat_minor": 5
}

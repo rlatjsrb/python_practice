{
 "cells": [
  {
   "cell_type": "code",
   "execution_count": 1,
   "id": "eabb6c66",
   "metadata": {},
   "outputs": [],
   "source": [
    "import requests\n",
    "import lxml.html\n",
    "import pandas as pd\n",
    "import sqlite3\n",
    "from pandas.io import sql\n",
    "import os"
   ]
  },
  {
   "cell_type": "code",
   "execution_count": 7,
   "id": "32c1a2c9",
   "metadata": {},
   "outputs": [],
   "source": [
    "REG_DATE = '20210712'"
   ]
  },
  {
   "cell_type": "code",
   "execution_count": 8,
   "id": "824399c7",
   "metadata": {},
   "outputs": [
    {
     "name": "stdout",
     "output_type": "stream",
     "text": [
      "https://v.daum.net/v/20210712234446331 정부·산·학·연, '국가 핵심 기술' 정보보안 힘쓴다\n",
      "https://v.daum.net/v/20210712233527287 시큐아이, '블루맥스 LMS' 조달 등록\n",
      "https://v.daum.net/v/20210712232559207 조금씩 줄던 랜섬웨어 공격, '증가세' 전환\n",
      "https://v.daum.net/v/20210712230806069 온라인 AI 경진대회 402팀 참여..1차 40팀 선발\n",
      "https://v.daum.net/v/20210712223942831 유로2020 인종차별 논란, 페북·트위터에 '불똥'\n",
      "https://v.daum.net/v/20210712223633806 올해의 기술사에 한국지멘스 고세진 상무 등 6명 선정..15회 전국기술사 대회 열려\n",
      "https://v.daum.net/v/20210712220413515 유럽 델타 확산..대유행 경고\n",
      "https://v.daum.net/v/20210712220311492 배민 '로봇 배송'..아파트 단지 안을 '딜리'가 왔다 갔다\n",
      "https://v.daum.net/v/20210712215052276 \"우주서 본 지구는 고요·평온\" 민간 우주관광 첫 문 열다\n",
      "https://v.daum.net/v/20210712214853255 文 \"백신 접종 속도내겠다\"더니.. 모더나, 고작 10% 확보해 놓고 50대 줄세웠다\n",
      "https://v.daum.net/v/20210712214159151 [영상] \"쫙 펼쳐진다\"..삼성 야심작 '폴더블폰' 유출\n",
      "https://v.daum.net/v/20210712211328679 억만장자 '우주여행' 바람..머스크도 티켓 샀다 [우주로 간다]\n",
      "https://v.daum.net/v/20210712211029617 협업툴 플로우, K-재택근무 지원 캠페인 진행\n",
      "https://v.daum.net/v/20210712205553398 구루미, MWC2021서 온라인 독서실인 '구루미 캠스터디' 소개\n",
      "https://v.daum.net/v/20210712205402378 '수퍼사이클'이라더니.. 글로벌 반도체株 깜짝실적에도 줄하락\n"
     ]
    }
   ],
   "source": [
    "response = requests.get('http://news.daum.net/breakingnews/digital?regDate={}'.format(REG_DATE))\n",
    "root = lxml.html.fromstring(response.content)\n",
    "for li in root.xpath('//*[@id=\"mArticle\"]/div[3]/ul/li'):\n",
    "    a = li.xpath('div/strong/a')[0]\n",
    "    url = a.get('href')\n",
    "    print(url, a.text)"
   ]
  },
  {
   "cell_type": "code",
   "execution_count": 11,
   "id": "9c8b9a14",
   "metadata": {},
   "outputs": [
    {
     "name": "stdout",
     "output_type": "stream",
     "text": [
      "https://v.daum.net/v/20210712234446331 정부·산·학·연, '국가 핵심 기술' 정보보안 힘쓴다\n",
      "https://v.daum.net/v/20210712233527287 시큐아이, '블루맥스 LMS' 조달 등록\n",
      "https://v.daum.net/v/20210712232559207 조금씩 줄던 랜섬웨어 공격, '증가세' 전환\n",
      "https://v.daum.net/v/20210712230806069 온라인 AI 경진대회 402팀 참여..1차 40팀 선발\n",
      "https://v.daum.net/v/20210712223942831 유로2020 인종차별 논란, 페북·트위터에 '불똥'\n",
      "https://v.daum.net/v/20210712223633806 올해의 기술사에 한국지멘스 고세진 상무 등 6명 선정..15회 전국기술사 대회 열려\n",
      "https://v.daum.net/v/20210712220413515 유럽 델타 확산..대유행 경고\n",
      "https://v.daum.net/v/20210712220311492 배민 '로봇 배송'..아파트 단지 안을 '딜리'가 왔다 갔다\n",
      "https://v.daum.net/v/20210712215052276 \"우주서 본 지구는 고요·평온\" 민간 우주관광 첫 문 열다\n",
      "https://v.daum.net/v/20210712214853255 文 \"백신 접종 속도내겠다\"더니.. 모더나, 고작 10% 확보해 놓고 50대 줄세웠다\n",
      "https://v.daum.net/v/20210712214159151 [영상] \"쫙 펼쳐진다\"..삼성 야심작 '폴더블폰' 유출\n",
      "https://v.daum.net/v/20210712211328679 억만장자 '우주여행' 바람..머스크도 티켓 샀다 [우주로 간다]\n",
      "https://v.daum.net/v/20210712211029617 협업툴 플로우, K-재택근무 지원 캠페인 진행\n",
      "https://v.daum.net/v/20210712205553398 구루미, MWC2021서 온라인 독서실인 '구루미 캠스터디' 소개\n",
      "https://v.daum.net/v/20210712205402378 '수퍼사이클'이라더니.. 글로벌 반도체株 깜짝실적에도 줄하락\n"
     ]
    }
   ],
   "source": [
    "response = requests.get('http://news.daum.net/breakingnews/digital?regDate={}'.format(REG_DATE))\n",
    "root = lxml.html.fromstring(response.content)\n",
    "for li in root.cssselect('#mArticle > div.box_etc > ul > li'):\n",
    "    a = li.cssselect('div > strong > a')[0]\n",
    "    url = a.get('href')\n",
    "    print(url, a.text)"
   ]
  },
  {
   "cell_type": "code",
   "execution_count": null,
   "id": "02ef926e",
   "metadata": {},
   "outputs": [],
   "source": []
  }
 ],
 "metadata": {
  "kernelspec": {
   "display_name": "Python 3",
   "language": "python",
   "name": "python3"
  },
  "language_info": {
   "codemirror_mode": {
    "name": "ipython",
    "version": 3
   },
   "file_extension": ".py",
   "mimetype": "text/x-python",
   "name": "python",
   "nbconvert_exporter": "python",
   "pygments_lexer": "ipython3",
   "version": "3.8.8"
  }
 },
 "nbformat": 4,
 "nbformat_minor": 5
}

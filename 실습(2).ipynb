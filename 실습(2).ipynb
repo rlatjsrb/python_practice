{
 "cells": [
  {
   "cell_type": "code",
   "execution_count": 1,
   "id": "09574b1c-fbb7-47eb-a53b-d1b42e315a8e",
   "metadata": {},
   "outputs": [
    {
     "name": "stdout",
     "output_type": "stream",
     "text": [
      "0\n"
     ]
    }
   ],
   "source": [
    "num = 0\n",
    "print(num)"
   ]
  },
  {
   "cell_type": "code",
   "execution_count": 2,
   "id": "9c9b504f-2e54-47c3-8b51-d6976a57af11",
   "metadata": {},
   "outputs": [
    {
     "name": "stdout",
     "output_type": "stream",
     "text": [
      "2\n"
     ]
    }
   ],
   "source": [
    "num2 = 2\n",
    "print(num2)"
   ]
  },
  {
   "cell_type": "code",
   "execution_count": 3,
   "id": "0af76172-89be-4963-b81b-2a0783ed9054",
   "metadata": {},
   "outputs": [
    {
     "name": "stdout",
     "output_type": "stream",
     "text": [
      "3\n"
     ]
    }
   ],
   "source": [
    "num_3 = 3\n",
    "print(num_3)"
   ]
  },
  {
   "cell_type": "code",
   "execution_count": 4,
   "id": "1e0598c8-c0ee-409e-a749-aa12ded20336",
   "metadata": {},
   "outputs": [
    {
     "name": "stdout",
     "output_type": "stream",
     "text": [
      "Hello World Python\n"
     ]
    }
   ],
   "source": [
    "hello = 'Hello World Python'\n",
    "print(hello)"
   ]
  },
  {
   "cell_type": "code",
   "execution_count": 5,
   "id": "ddf12f47-98a1-4153-8d54-a47ca261725e",
   "metadata": {},
   "outputs": [
    {
     "name": "stdout",
     "output_type": "stream",
     "text": [
      "Hello\n"
     ]
    }
   ],
   "source": [
    "헬로 = 'Hello'\n",
    "print(헬로)"
   ]
  },
  {
   "cell_type": "code",
   "execution_count": 6,
   "id": "212e673e-84c8-473f-8fc0-96af2fb2efa5",
   "metadata": {},
   "outputs": [
    {
     "name": "stdout",
     "output_type": "stream",
     "text": [
      "안녕\n"
     ]
    }
   ],
   "source": [
    "헬로2 = '안녕'\n",
    "print(헬로2)"
   ]
  },
  {
   "cell_type": "code",
   "execution_count": null,
   "id": "8c87b3bc-f1bf-46d8-8427-f4d844781ab4",
   "metadata": {},
   "outputs": [],
   "source": []
  },
  {
   "cell_type": "code",
   "execution_count": 7,
   "id": "8ea9b289-4210-43a3-85e2-5f219fc88d34",
   "metadata": {},
   "outputs": [
    {
     "name": "stdout",
     "output_type": "stream",
     "text": [
      "Hello\n"
     ]
    }
   ],
   "source": [
    "_hello = 'Hello'\n",
    "print(_hello)"
   ]
  },
  {
   "cell_type": "code",
   "execution_count": 8,
   "id": "699d2c23-ea1c-412c-817d-907dd1c78a08",
   "metadata": {},
   "outputs": [
    {
     "name": "stdout",
     "output_type": "stream",
     "text": [
      "Hello World\n"
     ]
    }
   ],
   "source": [
    "hello2 = 'Hello World'\n",
    "print(hello2)"
   ]
  },
  {
   "cell_type": "code",
   "execution_count": 9,
   "id": "0d985786-f990-45d8-8060-f84c1ce4d8a9",
   "metadata": {},
   "outputs": [
    {
     "ename": "SyntaxError",
     "evalue": "invalid syntax (<ipython-input-9-aaa75162f70c>, line 1)",
     "output_type": "error",
     "traceback": [
      "\u001b[1;36m  File \u001b[1;32m\"<ipython-input-9-aaa75162f70c>\"\u001b[1;36m, line \u001b[1;32m1\u001b[0m\n\u001b[1;33m    3hello = 'Hello World Python'\u001b[0m\n\u001b[1;37m     ^\u001b[0m\n\u001b[1;31mSyntaxError\u001b[0m\u001b[1;31m:\u001b[0m invalid syntax\n"
     ]
    }
   ],
   "source": [
    "3hello = 'Hello World Python'"
   ]
  },
  {
   "cell_type": "code",
   "execution_count": 10,
   "id": "8d893445-d735-4c30-a0fe-44e505dbabd5",
   "metadata": {},
   "outputs": [
    {
     "ename": "SyntaxError",
     "evalue": "invalid decimal literal (<ipython-input-10-05cadd4a6777>, line 1)",
     "output_type": "error",
     "traceback": [
      "\u001b[1;36m  File \u001b[1;32m\"<ipython-input-10-05cadd4a6777>\"\u001b[1;36m, line \u001b[1;32m1\u001b[0m\n\u001b[1;33m    2_hello = 'Hello World'\u001b[0m\n\u001b[1;37m     ^\u001b[0m\n\u001b[1;31mSyntaxError\u001b[0m\u001b[1;31m:\u001b[0m invalid decimal literal\n"
     ]
    }
   ],
   "source": [
    "2_hello = 'Hello World'"
   ]
  },
  {
   "cell_type": "code",
   "execution_count": null,
   "id": "7f0e9b26-4fc9-4d49-b659-b57326a5966c",
   "metadata": {},
   "outputs": [],
   "source": []
  },
  {
   "cell_type": "code",
   "execution_count": 11,
   "id": "7d89b5a8-abf3-4705-ae6e-e16dffb8e1b9",
   "metadata": {},
   "outputs": [],
   "source": [
    "num1 = 10\n",
    "num2 = 5"
   ]
  },
  {
   "cell_type": "code",
   "execution_count": 12,
   "id": "01a2735a-4237-4eb5-87fd-aac31ab61499",
   "metadata": {},
   "outputs": [
    {
     "name": "stdout",
     "output_type": "stream",
     "text": [
      "10 5\n"
     ]
    }
   ],
   "source": [
    "print(num1, num2)"
   ]
  },
  {
   "cell_type": "code",
   "execution_count": 13,
   "id": "172b4227-ee67-4a53-81da-e519749fbcfc",
   "metadata": {},
   "outputs": [
    {
     "name": "stdout",
     "output_type": "stream",
     "text": [
      "15\n"
     ]
    }
   ],
   "source": [
    "print(num1 + num2)"
   ]
  },
  {
   "cell_type": "code",
   "execution_count": 14,
   "id": "43961927-42c0-420d-8408-2f77bd713bdc",
   "metadata": {},
   "outputs": [
    {
     "name": "stdout",
     "output_type": "stream",
     "text": [
      "sum :  15\n"
     ]
    }
   ],
   "source": [
    "print('sum : ', num1 + num2)"
   ]
  },
  {
   "cell_type": "code",
   "execution_count": null,
   "id": "92ec6ef6-f7f1-4c42-b3f2-435acbfafc4b",
   "metadata": {},
   "outputs": [],
   "source": []
  },
  {
   "cell_type": "code",
   "execution_count": 15,
   "id": "161aa2c6-dfb8-401e-a356-a109ab4f5ddc",
   "metadata": {},
   "outputs": [],
   "source": [
    "a = b = 10"
   ]
  },
  {
   "cell_type": "code",
   "execution_count": 16,
   "id": "61b6ee98-be16-4376-a6b1-02d6d9e19e44",
   "metadata": {},
   "outputs": [
    {
     "name": "stdout",
     "output_type": "stream",
     "text": [
      "10\n"
     ]
    }
   ],
   "source": [
    "print(a)"
   ]
  },
  {
   "cell_type": "code",
   "execution_count": 17,
   "id": "3d25a810-e0b1-41db-ad9a-7bfbcc354845",
   "metadata": {},
   "outputs": [
    {
     "name": "stdout",
     "output_type": "stream",
     "text": [
      "10\n"
     ]
    }
   ],
   "source": [
    "print(b)"
   ]
  },
  {
   "cell_type": "code",
   "execution_count": null,
   "id": "04a6f7e0-a56b-4a72-81d5-0202bd9393bd",
   "metadata": {},
   "outputs": [],
   "source": []
  },
  {
   "cell_type": "code",
   "execution_count": 18,
   "id": "8f8d35aa-22b6-4797-9ad7-2f280265952f",
   "metadata": {},
   "outputs": [],
   "source": [
    "a, b = 2, 4"
   ]
  },
  {
   "cell_type": "code",
   "execution_count": 19,
   "id": "8079e3b8-f35d-48fc-ade8-85918f266524",
   "metadata": {},
   "outputs": [
    {
     "name": "stdout",
     "output_type": "stream",
     "text": [
      "2\n"
     ]
    }
   ],
   "source": [
    "print(a)"
   ]
  },
  {
   "cell_type": "code",
   "execution_count": 20,
   "id": "7e5bf901-1408-4f32-84b1-efa4f3262439",
   "metadata": {},
   "outputs": [
    {
     "name": "stdout",
     "output_type": "stream",
     "text": [
      "4\n"
     ]
    }
   ],
   "source": [
    "print(b)"
   ]
  },
  {
   "cell_type": "code",
   "execution_count": null,
   "id": "967c5114-3176-41fa-93e4-fa10150fc3de",
   "metadata": {},
   "outputs": [],
   "source": []
  },
  {
   "cell_type": "code",
   "execution_count": 21,
   "id": "1f2079f2-5865-4674-8cc9-623a9126afe5",
   "metadata": {},
   "outputs": [],
   "source": [
    "a = 10; b = 5"
   ]
  },
  {
   "cell_type": "code",
   "execution_count": 22,
   "id": "0dfddf9e-3295-484d-b3cc-30d92594b799",
   "metadata": {},
   "outputs": [
    {
     "name": "stdout",
     "output_type": "stream",
     "text": [
      "10 5\n"
     ]
    }
   ],
   "source": [
    "print(a, b)"
   ]
  },
  {
   "cell_type": "code",
   "execution_count": 23,
   "id": "81e3b236-82e3-4826-bcf2-622bebf4dbe0",
   "metadata": {},
   "outputs": [],
   "source": [
    "temp = a; a = b; b = temp"
   ]
  },
  {
   "cell_type": "code",
   "execution_count": 24,
   "id": "cb8898ce-2ec5-43fa-8f95-6d73019b5c60",
   "metadata": {},
   "outputs": [
    {
     "name": "stdout",
     "output_type": "stream",
     "text": [
      "5 10\n"
     ]
    }
   ],
   "source": [
    "print(a, b)"
   ]
  },
  {
   "cell_type": "code",
   "execution_count": 25,
   "id": "26d5cb84-1d82-4a9f-8098-b8ed6bf0dcc2",
   "metadata": {},
   "outputs": [],
   "source": [
    "a = 10; b = 5"
   ]
  },
  {
   "cell_type": "code",
   "execution_count": 26,
   "id": "39cdd620-ccf1-4dd3-bc2d-f9d29c7883b1",
   "metadata": {},
   "outputs": [
    {
     "name": "stdout",
     "output_type": "stream",
     "text": [
      "10 5\n"
     ]
    }
   ],
   "source": [
    "print(a, b)"
   ]
  },
  {
   "cell_type": "code",
   "execution_count": 27,
   "id": "411a9242-a8bf-44ba-afc3-2bcbdbc442c2",
   "metadata": {},
   "outputs": [],
   "source": [
    "a, b = b, a"
   ]
  },
  {
   "cell_type": "code",
   "execution_count": 28,
   "id": "619d950f-0cb5-4529-8b37-6922d3278022",
   "metadata": {},
   "outputs": [
    {
     "name": "stdout",
     "output_type": "stream",
     "text": [
      "5 10\n"
     ]
    }
   ],
   "source": [
    "print(a, b)"
   ]
  },
  {
   "cell_type": "code",
   "execution_count": null,
   "id": "42148e36-e1d4-4c32-b4fa-c6d486a83c40",
   "metadata": {},
   "outputs": [],
   "source": []
  },
  {
   "cell_type": "code",
   "execution_count": 29,
   "id": "c22f7ba2-c027-4fac-ac1c-d42523a420ad",
   "metadata": {},
   "outputs": [],
   "source": [
    "price = 1000"
   ]
  },
  {
   "cell_type": "code",
   "execution_count": 30,
   "id": "6f77e265-1d4e-4a14-afa0-db3d6b68d7cd",
   "metadata": {},
   "outputs": [
    {
     "name": "stdout",
     "output_type": "stream",
     "text": [
      "1000\n"
     ]
    }
   ],
   "source": [
    "print(price)"
   ]
  },
  {
   "cell_type": "code",
   "execution_count": 31,
   "id": "90486673-4649-4e3b-b248-043a23f271c6",
   "metadata": {},
   "outputs": [
    {
     "name": "stdout",
     "output_type": "stream",
     "text": [
      "<class 'int'>\n"
     ]
    }
   ],
   "source": [
    "print(type(price))"
   ]
  },
  {
   "cell_type": "code",
   "execution_count": 32,
   "id": "ea473311-1af4-4df6-b3fe-23fbbb6d4727",
   "metadata": {},
   "outputs": [],
   "source": [
    "rate = 0.05"
   ]
  },
  {
   "cell_type": "code",
   "execution_count": 33,
   "id": "f1b031cd-f0f9-4120-aa30-3c2ee53830e2",
   "metadata": {},
   "outputs": [
    {
     "name": "stdout",
     "output_type": "stream",
     "text": [
      "<class 'float'>\n"
     ]
    }
   ],
   "source": [
    "print(type(rate))"
   ]
  },
  {
   "cell_type": "code",
   "execution_count": 34,
   "id": "b98ad05d-ea2e-40fe-9d24-cf5056fa958c",
   "metadata": {},
   "outputs": [],
   "source": [
    "amount = 17e5"
   ]
  },
  {
   "cell_type": "code",
   "execution_count": 35,
   "id": "9601c34d-48b5-4d26-91eb-243b163c9dbd",
   "metadata": {},
   "outputs": [
    {
     "name": "stdout",
     "output_type": "stream",
     "text": [
      "1700000.0\n"
     ]
    }
   ],
   "source": [
    "print(amount)"
   ]
  },
  {
   "cell_type": "code",
   "execution_count": 36,
   "id": "970ae4d6-631e-4064-8ee4-952f0f16ce3a",
   "metadata": {},
   "outputs": [],
   "source": [
    "decimal = 2.65e-3"
   ]
  },
  {
   "cell_type": "code",
   "execution_count": 37,
   "id": "292fb210-e442-4f57-8c0e-631a8742c026",
   "metadata": {},
   "outputs": [
    {
     "name": "stdout",
     "output_type": "stream",
     "text": [
      "0.00265\n"
     ]
    }
   ],
   "source": [
    "print(decimal)"
   ]
  },
  {
   "cell_type": "code",
   "execution_count": null,
   "id": "a125d471-1843-40c0-a002-141afb7db3d9",
   "metadata": {},
   "outputs": [],
   "source": []
  },
  {
   "cell_type": "code",
   "execution_count": 38,
   "id": "accd4610-d731-41f5-9c05-00162173ad3c",
   "metadata": {},
   "outputs": [],
   "source": [
    "a = True\n",
    "b = False"
   ]
  },
  {
   "cell_type": "code",
   "execution_count": 39,
   "id": "9d093f56-b449-4cc2-aea1-f19739d925d5",
   "metadata": {},
   "outputs": [
    {
     "name": "stdout",
     "output_type": "stream",
     "text": [
      "True\n"
     ]
    }
   ],
   "source": [
    "print(a)"
   ]
  },
  {
   "cell_type": "code",
   "execution_count": 40,
   "id": "37c63ecb-8636-40bd-82ec-f92c0e4d8990",
   "metadata": {},
   "outputs": [
    {
     "name": "stdout",
     "output_type": "stream",
     "text": [
      "<class 'bool'>\n"
     ]
    }
   ],
   "source": [
    "print(type(a))"
   ]
  },
  {
   "cell_type": "code",
   "execution_count": 41,
   "id": "86876be8-facf-4404-b2f3-dc92c0d737d9",
   "metadata": {},
   "outputs": [
    {
     "name": "stdout",
     "output_type": "stream",
     "text": [
      "False\n"
     ]
    }
   ],
   "source": [
    "print(b)"
   ]
  },
  {
   "cell_type": "code",
   "execution_count": 42,
   "id": "97ee94a8-1d80-4152-8bed-c522324759cb",
   "metadata": {},
   "outputs": [
    {
     "name": "stdout",
     "output_type": "stream",
     "text": [
      "<class 'bool'>\n"
     ]
    }
   ],
   "source": [
    "print(type(b))"
   ]
  },
  {
   "cell_type": "code",
   "execution_count": null,
   "id": "0dca494c-32c8-4200-8a78-905ee93516c5",
   "metadata": {},
   "outputs": [],
   "source": []
  },
  {
   "cell_type": "code",
   "execution_count": 43,
   "id": "da58d943-ffe8-48d0-843a-97be2c208f8c",
   "metadata": {},
   "outputs": [],
   "source": [
    "s = 'Hello'"
   ]
  },
  {
   "cell_type": "code",
   "execution_count": 44,
   "id": "866b88ac-9de1-41b2-8110-33d374e1c8e9",
   "metadata": {},
   "outputs": [
    {
     "name": "stdout",
     "output_type": "stream",
     "text": [
      "Hello\n"
     ]
    }
   ],
   "source": [
    "print(s)"
   ]
  },
  {
   "cell_type": "code",
   "execution_count": 45,
   "id": "469a1693-846c-4913-b459-48bddfff7579",
   "metadata": {},
   "outputs": [],
   "source": [
    "l = [1, 2, 3, 4, 5]"
   ]
  },
  {
   "cell_type": "code",
   "execution_count": 46,
   "id": "1a624755-af6b-4557-8f62-5ba3470a75f9",
   "metadata": {},
   "outputs": [
    {
     "name": "stdout",
     "output_type": "stream",
     "text": [
      "[1, 2, 3, 4, 5]\n"
     ]
    }
   ],
   "source": [
    "print(l)"
   ]
  },
  {
   "cell_type": "code",
   "execution_count": 47,
   "id": "3b90d8c0-53d0-4831-84ce-e5b6ccadcf94",
   "metadata": {},
   "outputs": [
    {
     "name": "stdout",
     "output_type": "stream",
     "text": [
      "<class 'list'>\n"
     ]
    }
   ],
   "source": [
    "print(type(l))"
   ]
  },
  {
   "cell_type": "code",
   "execution_count": 48,
   "id": "9f9de01b-cf2a-479f-af14-b4085dbb259e",
   "metadata": {},
   "outputs": [],
   "source": [
    "t = (1, 2, 3, 4, 5)"
   ]
  },
  {
   "cell_type": "code",
   "execution_count": 49,
   "id": "58c21d62-66e4-46b3-8e75-40d8871edd06",
   "metadata": {},
   "outputs": [
    {
     "name": "stdout",
     "output_type": "stream",
     "text": [
      "(1, 2, 3, 4, 5)\n"
     ]
    }
   ],
   "source": [
    "print(t)"
   ]
  },
  {
   "cell_type": "code",
   "execution_count": 50,
   "id": "b0c900c7-28fa-4ea0-af6d-7d82af32a537",
   "metadata": {},
   "outputs": [
    {
     "name": "stdout",
     "output_type": "stream",
     "text": [
      "<class 'tuple'>\n"
     ]
    }
   ],
   "source": [
    "print(type(t))"
   ]
  },
  {
   "cell_type": "code",
   "execution_count": 51,
   "id": "e873f0ec-d49b-49d3-8e3e-d7186c863cf5",
   "metadata": {},
   "outputs": [],
   "source": [
    "se = {1, 2, 3, 4, 5}"
   ]
  },
  {
   "cell_type": "code",
   "execution_count": 52,
   "id": "880fbd06-39fc-415a-9211-996dcbf3420f",
   "metadata": {},
   "outputs": [
    {
     "name": "stdout",
     "output_type": "stream",
     "text": [
      "{1, 2, 3, 4, 5}\n"
     ]
    }
   ],
   "source": [
    "print(se)"
   ]
  },
  {
   "cell_type": "code",
   "execution_count": 53,
   "id": "1ecd4008-bee4-453c-b8aa-095a4f99ee1e",
   "metadata": {},
   "outputs": [
    {
     "name": "stdout",
     "output_type": "stream",
     "text": [
      "<class 'set'>\n"
     ]
    }
   ],
   "source": [
    "print(type(se))"
   ]
  },
  {
   "cell_type": "code",
   "execution_count": 54,
   "id": "4ab12ea7-2b11-480d-b9d0-7de4fdc385a5",
   "metadata": {},
   "outputs": [],
   "source": [
    "d = {'a':1, \n",
    "     'b':2, \n",
    "     'c':3}"
   ]
  },
  {
   "cell_type": "code",
   "execution_count": 55,
   "id": "b5a2196c-3eb2-4c2f-ae14-896371065ae9",
   "metadata": {},
   "outputs": [
    {
     "name": "stdout",
     "output_type": "stream",
     "text": [
      "{'a': 1, 'b': 2, 'c': 3}\n"
     ]
    }
   ],
   "source": [
    "print(d)"
   ]
  },
  {
   "cell_type": "code",
   "execution_count": 57,
   "id": "6e237726-9a06-47fb-a983-61facef4d315",
   "metadata": {},
   "outputs": [
    {
     "name": "stdout",
     "output_type": "stream",
     "text": [
      "<class 'dict'>\n"
     ]
    }
   ],
   "source": [
    "print(type(d))"
   ]
  },
  {
   "cell_type": "code",
   "execution_count": null,
   "id": "68adb8cd-3a68-4391-abcf-22add61dc3de",
   "metadata": {},
   "outputs": [],
   "source": []
  },
  {
   "cell_type": "code",
   "execution_count": 59,
   "id": "aaf85115-7ecd-46fc-8b9d-6c11849bd32a",
   "metadata": {},
   "outputs": [],
   "source": [
    "price = 1000"
   ]
  },
  {
   "cell_type": "code",
   "execution_count": 60,
   "id": "d95f55cd-beff-46b4-a79f-1c83638141b2",
   "metadata": {},
   "outputs": [
    {
     "name": "stdout",
     "output_type": "stream",
     "text": [
      "<class 'int'>\n"
     ]
    }
   ],
   "source": [
    "print(type(price))"
   ]
  },
  {
   "cell_type": "code",
   "execution_count": 61,
   "id": "92af9857-95df-4578-b293-5aa301a0450e",
   "metadata": {},
   "outputs": [],
   "source": [
    "price = price * 0.05"
   ]
  },
  {
   "cell_type": "code",
   "execution_count": 62,
   "id": "ca9ce60a-6525-429c-a8bc-fbb6d3a53931",
   "metadata": {},
   "outputs": [
    {
     "name": "stdout",
     "output_type": "stream",
     "text": [
      "50.0\n"
     ]
    }
   ],
   "source": [
    "print(price)"
   ]
  },
  {
   "cell_type": "code",
   "execution_count": 63,
   "id": "bcbf7b9c-6573-4e42-980e-1459666a7f98",
   "metadata": {},
   "outputs": [
    {
     "name": "stdout",
     "output_type": "stream",
     "text": [
      "<class 'float'>\n"
     ]
    }
   ],
   "source": [
    "print(type(price))"
   ]
  },
  {
   "cell_type": "code",
   "execution_count": 64,
   "id": "9f7480ca-42cf-45c9-85b0-329f14009e8f",
   "metadata": {},
   "outputs": [],
   "source": [
    "i1 = 1000"
   ]
  },
  {
   "cell_type": "code",
   "execution_count": 67,
   "id": "dbc82cc3-d2cc-4c1f-bcac-d3cfbbf54d2d",
   "metadata": {},
   "outputs": [
    {
     "name": "stdout",
     "output_type": "stream",
     "text": [
      "<class 'float'>\n"
     ]
    }
   ],
   "source": [
    "print(type(i1))"
   ]
  },
  {
   "cell_type": "code",
   "execution_count": 68,
   "id": "9911e9b2-2d22-44c4-88bc-e7d02031d751",
   "metadata": {},
   "outputs": [],
   "source": [
    "i1 = i1/4 "
   ]
  },
  {
   "cell_type": "code",
   "execution_count": 69,
   "id": "2d7043e3-a42a-4e65-908f-c3e34e49bbf7",
   "metadata": {},
   "outputs": [
    {
     "name": "stdout",
     "output_type": "stream",
     "text": [
      "62.5\n"
     ]
    }
   ],
   "source": [
    "print(i1)"
   ]
  },
  {
   "cell_type": "code",
   "execution_count": 70,
   "id": "93a9af0e-40ac-48cd-b6cb-64d056f1342f",
   "metadata": {},
   "outputs": [
    {
     "name": "stdout",
     "output_type": "stream",
     "text": [
      "<class 'float'>\n"
     ]
    }
   ],
   "source": [
    "print(type(i1))"
   ]
  },
  {
   "cell_type": "code",
   "execution_count": null,
   "id": "26b62f20-201d-4f50-a176-4e10d98cd1da",
   "metadata": {},
   "outputs": [],
   "source": []
  },
  {
   "cell_type": "code",
   "execution_count": 71,
   "id": "1158e525-c865-4886-9b7c-1d03b266e421",
   "metadata": {},
   "outputs": [],
   "source": [
    "f1 = 3.14"
   ]
  },
  {
   "cell_type": "code",
   "execution_count": 72,
   "id": "d8050176-60ce-4c91-8477-d141579b9604",
   "metadata": {},
   "outputs": [
    {
     "name": "stdout",
     "output_type": "stream",
     "text": [
      "<class 'float'>\n"
     ]
    }
   ],
   "source": [
    "print(type(f1))"
   ]
  },
  {
   "cell_type": "code",
   "execution_count": 73,
   "id": "1d1de835-49c0-4b02-b28c-9ea725b13ef1",
   "metadata": {},
   "outputs": [],
   "source": [
    "i1 = int(f1)"
   ]
  },
  {
   "cell_type": "code",
   "execution_count": 74,
   "id": "deda26a3-646f-4fab-b423-492109bcc298",
   "metadata": {},
   "outputs": [
    {
     "name": "stdout",
     "output_type": "stream",
     "text": [
      "3\n"
     ]
    }
   ],
   "source": [
    "print(i1)"
   ]
  },
  {
   "cell_type": "code",
   "execution_count": 75,
   "id": "16d68f68-218a-493e-8ef5-616c9c53733f",
   "metadata": {},
   "outputs": [
    {
     "name": "stdout",
     "output_type": "stream",
     "text": [
      "<class 'int'>\n"
     ]
    }
   ],
   "source": [
    "print(type(i1))"
   ]
  },
  {
   "cell_type": "code",
   "execution_count": null,
   "id": "cd609fa0-dad0-4dc3-b5ee-7afd958e2870",
   "metadata": {},
   "outputs": [],
   "source": []
  },
  {
   "cell_type": "code",
   "execution_count": 76,
   "id": "2383e10e-d8f8-4140-9bce-66d16e38c5d0",
   "metadata": {},
   "outputs": [],
   "source": [
    "s1 = '12345'"
   ]
  },
  {
   "cell_type": "code",
   "execution_count": 77,
   "id": "e9cf8f6f-372b-4acd-8556-f4967c473d75",
   "metadata": {},
   "outputs": [
    {
     "name": "stdout",
     "output_type": "stream",
     "text": [
      "<class 'str'>\n"
     ]
    }
   ],
   "source": [
    "print(type(s1))"
   ]
  },
  {
   "cell_type": "code",
   "execution_count": 78,
   "id": "494d5aab-f551-41fa-8653-c42c1bfa86b2",
   "metadata": {},
   "outputs": [],
   "source": [
    "i1 = int(s1)"
   ]
  },
  {
   "cell_type": "code",
   "execution_count": 79,
   "id": "14b4a629-401b-406e-acff-a26cc749a4dc",
   "metadata": {},
   "outputs": [
    {
     "name": "stdout",
     "output_type": "stream",
     "text": [
      "12345\n"
     ]
    }
   ],
   "source": [
    "print(i1)"
   ]
  },
  {
   "cell_type": "code",
   "execution_count": 80,
   "id": "48c7a551-c306-4022-b983-d3ac29605731",
   "metadata": {},
   "outputs": [
    {
     "name": "stdout",
     "output_type": "stream",
     "text": [
      "<class 'int'>\n"
     ]
    }
   ],
   "source": [
    "print(type(i1))"
   ]
  },
  {
   "cell_type": "code",
   "execution_count": 81,
   "id": "7c98c02c-200d-449b-b2f4-70d0f80275d8",
   "metadata": {},
   "outputs": [],
   "source": [
    "s2 = '12345a'"
   ]
  },
  {
   "cell_type": "code",
   "execution_count": 82,
   "id": "9f6cedf9-1a64-427f-a991-a168bcdd61af",
   "metadata": {},
   "outputs": [
    {
     "ename": "ValueError",
     "evalue": "invalid literal for int() with base 10: '12345a'",
     "output_type": "error",
     "traceback": [
      "\u001b[1;31m---------------------------------------------------------------------------\u001b[0m",
      "\u001b[1;31mValueError\u001b[0m                                Traceback (most recent call last)",
      "\u001b[1;32m<ipython-input-82-40e5c06a2e43>\u001b[0m in \u001b[0;36m<module>\u001b[1;34m\u001b[0m\n\u001b[1;32m----> 1\u001b[1;33m \u001b[0mint\u001b[0m\u001b[1;33m(\u001b[0m\u001b[0ms2\u001b[0m\u001b[1;33m)\u001b[0m\u001b[1;33m\u001b[0m\u001b[1;33m\u001b[0m\u001b[0m\n\u001b[0m",
      "\u001b[1;31mValueError\u001b[0m: invalid literal for int() with base 10: '12345a'"
     ]
    }
   ],
   "source": [
    "int(s2)"
   ]
  },
  {
   "cell_type": "code",
   "execution_count": 83,
   "id": "855d18e2-433c-4ea8-b7dc-f6fe501d862a",
   "metadata": {},
   "outputs": [],
   "source": [
    "s2 = '1234 '"
   ]
  },
  {
   "cell_type": "code",
   "execution_count": 84,
   "id": "4d84d35b-87a7-4684-b2f8-209c445ca06b",
   "metadata": {},
   "outputs": [
    {
     "data": {
      "text/plain": [
       "1234"
      ]
     },
     "execution_count": 84,
     "metadata": {},
     "output_type": "execute_result"
    }
   ],
   "source": [
    "int(s2)"
   ]
  },
  {
   "cell_type": "code",
   "execution_count": null,
   "id": "4498265a-5167-4bbd-ba4d-b13ca507bad2",
   "metadata": {},
   "outputs": [],
   "source": []
  },
  {
   "cell_type": "code",
   "execution_count": 85,
   "id": "f58a48fb-485c-4624-b31a-0d1d08ee2460",
   "metadata": {},
   "outputs": [],
   "source": [
    "i1 = 100"
   ]
  },
  {
   "cell_type": "code",
   "execution_count": 86,
   "id": "e258c8ca-e912-4acc-bc81-6264d06d0ab7",
   "metadata": {},
   "outputs": [
    {
     "name": "stdout",
     "output_type": "stream",
     "text": [
      "<class 'int'>\n"
     ]
    }
   ],
   "source": [
    "print(type(i1))"
   ]
  },
  {
   "cell_type": "code",
   "execution_count": 87,
   "id": "5c3f52cc-124b-4956-91e3-10354f0e1aa0",
   "metadata": {},
   "outputs": [],
   "source": [
    "f1 = float(i1)"
   ]
  },
  {
   "cell_type": "code",
   "execution_count": 88,
   "id": "23356e9e-57c6-465f-976e-be91f25d8e07",
   "metadata": {},
   "outputs": [
    {
     "name": "stdout",
     "output_type": "stream",
     "text": [
      "100.0\n"
     ]
    }
   ],
   "source": [
    "print(f1)"
   ]
  },
  {
   "cell_type": "code",
   "execution_count": 89,
   "id": "5c62707f-0eaf-4490-b6db-659aa79c0d9e",
   "metadata": {},
   "outputs": [
    {
     "name": "stdout",
     "output_type": "stream",
     "text": [
      "<class 'float'>\n"
     ]
    }
   ],
   "source": [
    "print(type(f1))"
   ]
  },
  {
   "cell_type": "code",
   "execution_count": null,
   "id": "8cebeea0-64d9-4cf5-a750-3936717b3dd6",
   "metadata": {},
   "outputs": [],
   "source": []
  },
  {
   "cell_type": "code",
   "execution_count": 90,
   "id": "5216f931-84a7-401d-b559-482f83276bac",
   "metadata": {},
   "outputs": [],
   "source": [
    "s1 = '3.14'"
   ]
  },
  {
   "cell_type": "code",
   "execution_count": 91,
   "id": "9b65c8c0-287a-4126-a3b2-fe009b524b72",
   "metadata": {},
   "outputs": [
    {
     "name": "stdout",
     "output_type": "stream",
     "text": [
      "<class 'str'>\n"
     ]
    }
   ],
   "source": [
    "print(type(s1))"
   ]
  },
  {
   "cell_type": "code",
   "execution_count": 92,
   "id": "7e65a590-7895-4306-be28-608d14b5358e",
   "metadata": {},
   "outputs": [],
   "source": [
    "f1 = float(s1)"
   ]
  },
  {
   "cell_type": "code",
   "execution_count": 93,
   "id": "fad02f29-6c9b-47a8-8485-fe979d2ad889",
   "metadata": {},
   "outputs": [
    {
     "name": "stdout",
     "output_type": "stream",
     "text": [
      "3.14\n"
     ]
    }
   ],
   "source": [
    "print(f1)"
   ]
  },
  {
   "cell_type": "code",
   "execution_count": 94,
   "id": "7fac86ac-5294-482e-9951-de5fd08473e9",
   "metadata": {},
   "outputs": [
    {
     "name": "stdout",
     "output_type": "stream",
     "text": [
      "<class 'float'>\n"
     ]
    }
   ],
   "source": [
    "print(type(f1))"
   ]
  }
 ],
 "metadata": {
  "kernelspec": {
   "display_name": "Python 3",
   "language": "python",
   "name": "python3"
  },
  "language_info": {
   "codemirror_mode": {
    "name": "ipython",
    "version": 3
   },
   "file_extension": ".py",
   "mimetype": "text/x-python",
   "name": "python",
   "nbconvert_exporter": "python",
   "pygments_lexer": "ipython3",
   "version": "3.8.8"
  }
 },
 "nbformat": 4,
 "nbformat_minor": 5
}

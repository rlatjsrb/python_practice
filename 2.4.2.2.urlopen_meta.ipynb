{
 "cells": [
  {
   "cell_type": "code",
   "execution_count": 1,
   "id": "fa6e3d9b",
   "metadata": {},
   "outputs": [],
   "source": [
    "import re\n",
    "import sys\n",
    "from urllib.request import urlopen"
   ]
  },
  {
   "cell_type": "code",
   "execution_count": 3,
   "id": "9bc31b9d",
   "metadata": {},
   "outputs": [],
   "source": [
    "f = urlopen('http://www.hanbit.co.kr/store/books/full_book_list.html')\n",
    "# bytes 자료형의 응답 본문을 일단 변수에 저장\n",
    "bytes_content = f.read()"
   ]
  },
  {
   "cell_type": "code",
   "execution_count": 4,
   "id": "2a20cd3a",
   "metadata": {},
   "outputs": [],
   "source": [
    "# charset은 HTML의 앞부분에 적혀있는 경우가 많으믈\n",
    "# 응답 본문의 앞부분 1024바이트를 ASCII 문자로 디코딩\n",
    "# ASCII 범위 이외의 문자는 U+FFFD(REPLACEMENT CHARACTER)로 변한되어 예외가 발생하지 ㅇ낳음\n",
    "scanned_text = bytes_content[:1024].decode('ascii', errors = 'replace')"
   ]
  },
  {
   "cell_type": "code",
   "execution_count": 5,
   "id": "7f990e06",
   "metadata": {},
   "outputs": [],
   "source": [
    "# 디코딩한 문자열에서 정규 표현식으로 charset값을 추출\n",
    "match = re.search(r'charset=[\"\\']?([\\w-]+)', scanned_text)"
   ]
  },
  {
   "cell_type": "code",
   "execution_count": 6,
   "id": "3a881502",
   "metadata": {},
   "outputs": [
    {
     "data": {
      "text/plain": [
       "'utf-8'"
      ]
     },
     "execution_count": 6,
     "metadata": {},
     "output_type": "execute_result"
    }
   ],
   "source": [
    "match.group(1)"
   ]
  },
  {
   "cell_type": "code",
   "execution_count": 7,
   "id": "eb93a3e8",
   "metadata": {},
   "outputs": [],
   "source": [
    "if match:\n",
    "    encoding = match.group(1)\n",
    "else:\n",
    "    # charset이 명시되어 있지 않으면 UTF-8을 사용\n",
    "    encoding = 'utf-8'"
   ]
  },
  {
   "cell_type": "code",
   "execution_count": null,
   "id": "8da6ae32",
   "metadata": {},
   "outputs": [],
   "source": []
  }
 ],
 "metadata": {
  "kernelspec": {
   "display_name": "Python 3",
   "language": "python",
   "name": "python3"
  },
  "language_info": {
   "codemirror_mode": {
    "name": "ipython",
    "version": 3
   },
   "file_extension": ".py",
   "mimetype": "text/x-python",
   "name": "python",
   "nbconvert_exporter": "python",
   "pygments_lexer": "ipython3",
   "version": "3.8.8"
  }
 },
 "nbformat": 4,
 "nbformat_minor": 5
}

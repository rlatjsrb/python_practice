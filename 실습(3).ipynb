{
 "cells": [
  {
   "cell_type": "code",
   "execution_count": 5,
   "id": "e3eb6906-0cc7-4298-94f3-daa738acf62c",
   "metadata": {},
   "outputs": [],
   "source": [
    "a = '파이썬'"
   ]
  },
  {
   "cell_type": "code",
   "execution_count": 6,
   "id": "a462cde1-d0c2-4485-bc55-e5d954fbc50c",
   "metadata": {},
   "outputs": [
    {
     "name": "stdout",
     "output_type": "stream",
     "text": [
      "<class 'str'>\n"
     ]
    }
   ],
   "source": [
    "print(type(a))"
   ]
  },
  {
   "cell_type": "code",
   "execution_count": 7,
   "id": "45c6d0d3-f16e-45c8-8941-d9449e57661c",
   "metadata": {},
   "outputs": [
    {
     "name": "stdout",
     "output_type": "stream",
     "text": [
      "파이썬\n"
     ]
    }
   ],
   "source": [
    "print(a)"
   ]
  },
  {
   "cell_type": "code",
   "execution_count": 8,
   "id": "2a500637-d824-4c40-8ca3-6b29da5d83b6",
   "metadata": {},
   "outputs": [],
   "source": [
    "b = \"문자열\""
   ]
  },
  {
   "cell_type": "code",
   "execution_count": 9,
   "id": "05ed1787-9174-43f3-bfbc-06ab02f061a7",
   "metadata": {},
   "outputs": [
    {
     "name": "stdout",
     "output_type": "stream",
     "text": [
      "문자열\n"
     ]
    }
   ],
   "source": [
    "print(b)"
   ]
  },
  {
   "cell_type": "code",
   "execution_count": 10,
   "id": "5f9a061a-5965-47be-822c-c47fad0aa5a8",
   "metadata": {},
   "outputs": [],
   "source": [
    "c = \"\"\"\n",
    "죽는 날까지 하늘을 우러러 \n",
    "한 점 부끄럼 없기를\n",
    "잎새에 이는 바람에도\n",
    "나는 괴로워 했다\n",
    "\"\"\""
   ]
  },
  {
   "cell_type": "code",
   "execution_count": 11,
   "id": "07ec1f11-6cc3-4ce4-9297-bc1104523a4d",
   "metadata": {},
   "outputs": [
    {
     "name": "stdout",
     "output_type": "stream",
     "text": [
      "\n",
      "죽는 날까지 하늘을 우러러 \n",
      "한 점 부끄럼 없기를\n",
      "잎새에 이는 바람에도\n",
      "나는 괴로워 했다\n",
      "\n"
     ]
    }
   ],
   "source": [
    "print(c)"
   ]
  },
  {
   "cell_type": "code",
   "execution_count": 12,
   "id": "b1767dba-1cbd-44a0-97d0-d0e0d749251d",
   "metadata": {},
   "outputs": [
    {
     "ename": "TypeError",
     "evalue": "can only concatenate str (not \"int\") to str",
     "output_type": "error",
     "traceback": [
      "\u001b[1;31m---------------------------------------------------------------------------\u001b[0m",
      "\u001b[1;31mTypeError\u001b[0m                                 Traceback (most recent call last)",
      "\u001b[1;32m<ipython-input-12-ff25ad6d14ce>\u001b[0m in \u001b[0;36m<module>\u001b[1;34m\u001b[0m\n\u001b[1;32m----> 1\u001b[1;33m \u001b[1;34m'파이썬'\u001b[0m \u001b[1;33m+\u001b[0m \u001b[1;36m3\u001b[0m\u001b[1;33m\u001b[0m\u001b[1;33m\u001b[0m\u001b[0m\n\u001b[0m",
      "\u001b[1;31mTypeError\u001b[0m: can only concatenate str (not \"int\") to str"
     ]
    }
   ],
   "source": [
    "'파이썬' + 3"
   ]
  },
  {
   "cell_type": "code",
   "execution_count": 13,
   "id": "e7b263c9-bfe6-42d7-b475-4c75d1818538",
   "metadata": {},
   "outputs": [],
   "source": [
    "d = '파이썬' + str(3)"
   ]
  },
  {
   "cell_type": "code",
   "execution_count": 14,
   "id": "37919023-8289-41d6-9291-61ad182f1ad7",
   "metadata": {},
   "outputs": [
    {
     "name": "stdout",
     "output_type": "stream",
     "text": [
      "파이썬3\n"
     ]
    }
   ],
   "source": [
    "print(d)"
   ]
  },
  {
   "cell_type": "code",
   "execution_count": 15,
   "id": "ee41063e-9435-462f-9222-13abdadd0a5f",
   "metadata": {},
   "outputs": [],
   "source": [
    "e = '*' * 10"
   ]
  },
  {
   "cell_type": "code",
   "execution_count": 16,
   "id": "b5fbfc66-16cc-4290-9ea1-1b7982973781",
   "metadata": {},
   "outputs": [
    {
     "name": "stdout",
     "output_type": "stream",
     "text": [
      "**********\n"
     ]
    }
   ],
   "source": [
    "print(e)"
   ]
  },
  {
   "cell_type": "code",
   "execution_count": 17,
   "id": "5580dc2a-69a6-41fd-a308-2039af5ef6cb",
   "metadata": {},
   "outputs": [],
   "source": [
    "a = 'HelloWorld!'"
   ]
  },
  {
   "cell_type": "code",
   "execution_count": 18,
   "id": "4729bcba-f7d8-46ed-9bdd-9ca2fbc448a1",
   "metadata": {},
   "outputs": [
    {
     "data": {
      "text/plain": [
       "'HelloWorld!'"
      ]
     },
     "execution_count": 18,
     "metadata": {},
     "output_type": "execute_result"
    }
   ],
   "source": [
    "a"
   ]
  },
  {
   "cell_type": "code",
   "execution_count": 19,
   "id": "c5c2614d-e777-403f-857a-35de519de37a",
   "metadata": {},
   "outputs": [
    {
     "data": {
      "text/plain": [
       "'H'"
      ]
     },
     "execution_count": 19,
     "metadata": {},
     "output_type": "execute_result"
    }
   ],
   "source": [
    "a[0]"
   ]
  },
  {
   "cell_type": "code",
   "execution_count": 20,
   "id": "17cb7005-f408-4ddb-8d42-2910b7dd24cf",
   "metadata": {},
   "outputs": [
    {
     "data": {
      "text/plain": [
       "'W'"
      ]
     },
     "execution_count": 20,
     "metadata": {},
     "output_type": "execute_result"
    }
   ],
   "source": [
    "a[5]"
   ]
  },
  {
   "cell_type": "code",
   "execution_count": 21,
   "id": "b5fa741b-a204-484f-9491-16886872aa55",
   "metadata": {},
   "outputs": [
    {
     "data": {
      "text/plain": [
       "'!'"
      ]
     },
     "execution_count": 21,
     "metadata": {},
     "output_type": "execute_result"
    }
   ],
   "source": [
    "a[-1]"
   ]
  },
  {
   "cell_type": "code",
   "execution_count": 22,
   "id": "8eeeb96d-2d9b-4583-8334-4f298111c8e1",
   "metadata": {},
   "outputs": [
    {
     "data": {
      "text/plain": [
       "'d'"
      ]
     },
     "execution_count": 22,
     "metadata": {},
     "output_type": "execute_result"
    }
   ],
   "source": [
    "a[-2]"
   ]
  },
  {
   "cell_type": "code",
   "execution_count": 23,
   "id": "ea190933-dd8e-4dda-81f9-1c51264f8105",
   "metadata": {},
   "outputs": [
    {
     "data": {
      "text/plain": [
       "'Hello'"
      ]
     },
     "execution_count": 23,
     "metadata": {},
     "output_type": "execute_result"
    }
   ],
   "source": [
    "a[:5] # a[0:5]"
   ]
  },
  {
   "cell_type": "code",
   "execution_count": 24,
   "id": "30062d52-3563-452e-a4d2-d6860dbecdf4",
   "metadata": {},
   "outputs": [
    {
     "data": {
      "text/plain": [
       "'World!'"
      ]
     },
     "execution_count": 24,
     "metadata": {},
     "output_type": "execute_result"
    }
   ],
   "source": [
    "a[5:]"
   ]
  },
  {
   "cell_type": "code",
   "execution_count": 25,
   "id": "cf9768fc-c5f1-49bd-9718-69c034a56742",
   "metadata": {},
   "outputs": [
    {
     "data": {
      "text/plain": [
       "'HelloWorld!'"
      ]
     },
     "execution_count": 25,
     "metadata": {},
     "output_type": "execute_result"
    }
   ],
   "source": [
    "a[:]"
   ]
  },
  {
   "cell_type": "code",
   "execution_count": 26,
   "id": "3a85edb5-77e0-47de-ae65-dfa0b3df49eb",
   "metadata": {},
   "outputs": [
    {
     "data": {
      "text/plain": [
       "'Hlool!'"
      ]
     },
     "execution_count": 26,
     "metadata": {},
     "output_type": "execute_result"
    }
   ],
   "source": [
    "a[::2]"
   ]
  },
  {
   "cell_type": "code",
   "execution_count": 27,
   "id": "98ad5417-55d7-42a3-bcc5-8bdab042fa82",
   "metadata": {},
   "outputs": [
    {
     "data": {
      "text/plain": [
       "'!dlroWolleH'"
      ]
     },
     "execution_count": 27,
     "metadata": {},
     "output_type": "execute_result"
    }
   ],
   "source": [
    "a[::-1] #step이 음수는 역정렬"
   ]
  },
  {
   "cell_type": "code",
   "execution_count": 28,
   "id": "e89809f1-1ae0-4b69-a8be-399c2b0d6d6f",
   "metadata": {},
   "outputs": [
    {
     "data": {
      "text/plain": [
       "'!loolH'"
      ]
     },
     "execution_count": 28,
     "metadata": {},
     "output_type": "execute_result"
    }
   ],
   "source": [
    "a[::-2]"
   ]
  },
  {
   "cell_type": "code",
   "execution_count": 29,
   "id": "8e5ca511-28a6-4d54-8372-b07d2a4bccd9",
   "metadata": {},
   "outputs": [],
   "source": [
    "name, age, phone = '홍길동', 25, '010-111-2222'"
   ]
  },
  {
   "cell_type": "code",
   "execution_count": 30,
   "id": "3fe356c6-f4a2-42e1-b702-da505c892ab0",
   "metadata": {},
   "outputs": [
    {
     "data": {
      "text/plain": [
       "'이름은 홍길동 이고, 나이는 25세 이며, 전화번호는 010-111-2222 입니다. '"
      ]
     },
     "execution_count": 30,
     "metadata": {},
     "output_type": "execute_result"
    }
   ],
   "source": [
    "소개 = \"이름은 {} 이고, 나이는 {}세 이며, 전화번호는 {} 입니다. \".format(name, age, phone)\n",
    "소개"
   ]
  },
  {
   "cell_type": "code",
   "execution_count": 31,
   "id": "4ffb9729-bb49-4d4e-9438-0c75143d9443",
   "metadata": {},
   "outputs": [
    {
     "data": {
      "text/plain": [
       "'이름은 홍길동 이고, 나이는 25세 이며, 전화번호는 010-111-2222 입니다. '"
      ]
     },
     "execution_count": 31,
     "metadata": {},
     "output_type": "execute_result"
    }
   ],
   "source": [
    "소개 = \"이름은 {0} 이고, 나이는 {2}세 이며, 전화번호는 {1} 입니다. \".format(name, phone, age)\n",
    "소개"
   ]
  },
  {
   "cell_type": "code",
   "execution_count": 32,
   "id": "6e90616b-3cf5-4dc2-8dae-dcbeef50b97e",
   "metadata": {},
   "outputs": [
    {
     "data": {
      "text/plain": [
       "'이름은 홍길동 이고, 나이는 25세 이며, 전화번호는 010-111-2222 입니다. '"
      ]
     },
     "execution_count": 32,
     "metadata": {},
     "output_type": "execute_result"
    }
   ],
   "source": [
    "소개 = \"이름은 {a} 이고, 나이는 {b}세 이며, 전화번호는 {c} 입니다. \".format(c = phone, a = name, b = age)\n",
    "소개"
   ]
  },
  {
   "cell_type": "code",
   "execution_count": 33,
   "id": "4710b65c-8e6a-43d1-9abb-5b5f8461dd70",
   "metadata": {},
   "outputs": [
    {
     "data": {
      "text/plain": [
       "'이름은 홍길동 이고, 나이는 25세 이며, 전화번호는 010-111-2222 입니다. '"
      ]
     },
     "execution_count": 33,
     "metadata": {},
     "output_type": "execute_result"
    }
   ],
   "source": [
    "소개 = f\"이름은 {name} 이고, 나이는 {age}세 이며, 전화번호는 {phone} 입니다. \"\n",
    "소개"
   ]
  },
  {
   "cell_type": "code",
   "execution_count": 34,
   "id": "a07146bd-03b1-4c8f-8bac-aa4dcc663ddc",
   "metadata": {},
   "outputs": [],
   "source": [
    "jan, dec = 1, 12"
   ]
  },
  {
   "cell_type": "code",
   "execution_count": 35,
   "id": "5990eca6-79b4-4d10-8cc2-c0d870805e1c",
   "metadata": {},
   "outputs": [
    {
     "name": "stdout",
     "output_type": "stream",
     "text": [
      "한 해의 시작은 01월\n",
      "한 해의 마지막은 12월\n"
     ]
    }
   ],
   "source": [
    "print(\"한 해의 시작은 {:02d}월\".format(jan))\n",
    "print(\"한 해의 마지막은 {:02d}월\".format(dec))"
   ]
  },
  {
   "cell_type": "code",
   "execution_count": 36,
   "id": "6893d689-899b-4242-ba75-0b933af94ca7",
   "metadata": {},
   "outputs": [
    {
     "data": {
      "text/plain": [
       "'123,456,789'"
      ]
     },
     "execution_count": 36,
     "metadata": {},
     "output_type": "execute_result"
    }
   ],
   "source": [
    "val = 123456789\n",
    "money = \"{:,}\"\n",
    "money.format(val)"
   ]
  },
  {
   "cell_type": "code",
   "execution_count": 37,
   "id": "85cd560c-b8e8-420c-b92e-392037ae8cf6",
   "metadata": {},
   "outputs": [
    {
     "data": {
      "text/plain": [
       "'3, 3.000000, 3.0, 3.14, 33.33%'"
      ]
     },
     "execution_count": 37,
     "metadata": {},
     "output_type": "execute_result"
    }
   ],
   "source": [
    "'{}, {:f}, {:.1f}, {:.2f}, {:.2%}'.format(3, 3, 3, 3.1415, 1/3)"
   ]
  }
 ],
 "metadata": {
  "kernelspec": {
   "display_name": "Python 3",
   "language": "python",
   "name": "python3"
  },
  "language_info": {
   "codemirror_mode": {
    "name": "ipython",
    "version": 3
   },
   "file_extension": ".py",
   "mimetype": "text/x-python",
   "name": "python",
   "nbconvert_exporter": "python",
   "pygments_lexer": "ipython3",
   "version": "3.8.8"
  }
 },
 "nbformat": 4,
 "nbformat_minor": 5
}
